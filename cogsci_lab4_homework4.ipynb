{
 "cells": [
  {
   "cell_type": "markdown",
   "id": "30e9ce05",
   "metadata": {},
   "source": [
    "# Laboratory exercise 4\n",
    "\n",
    "In this laboratory exercise you will use the questionnaire and answers given below"
   ]
  },
  {
   "cell_type": "code",
   "execution_count": 1,
   "id": "d6820020",
   "metadata": {},
   "outputs": [],
   "source": [
    "import pandas as pd"
   ]
  },
  {
   "cell_type": "code",
   "execution_count": 3,
   "id": "c53f916c",
   "metadata": {},
   "outputs": [],
   "source": [
    "questionnaire = pd.DataFrame({'Q1': [1, 2, 2, 3, 2, 2, 3, 3, 2, 3],\n",
    "                              'Q2': [1, 1, 1, 2, 3, 3, 2, 3, 3, 3],\n",
    "                              'Q3': [1, 1, 2, 1, 2, 3, 3, 3, 2, 3]})"
   ]
  },
  {
   "cell_type": "markdown",
   "id": "ce36a49d",
   "metadata": {},
   "source": [
    "1. Write a function to determine the realiability of the questionnaire answers with Cronbach's Alpha."
   ]
  },
  {
   "cell_type": "code",
   "execution_count": 4,
   "metadata": {},
   "outputs": [
    {
     "name": "stdout",
     "output_type": "stream",
     "text": [
      "Cronbach's Alpha: 0.7814516129032258\n"
     ]
    },
    {
     "name": "stderr",
     "output_type": "stream",
     "text": [
      "C:\\Users\\Korisnik\\AppData\\Local\\Temp\\ipykernel_15312\\728502713.py:16: FutureWarning: The frame.append method is deprecated and will be removed from pandas in a future version. Use pandas.concat instead.\n",
      "  item_combinations = item_combinations.append({\n",
      "C:\\Users\\Korisnik\\AppData\\Local\\Temp\\ipykernel_15312\\728502713.py:16: FutureWarning: The frame.append method is deprecated and will be removed from pandas in a future version. Use pandas.concat instead.\n",
      "  item_combinations = item_combinations.append({\n",
      "C:\\Users\\Korisnik\\AppData\\Local\\Temp\\ipykernel_15312\\728502713.py:16: FutureWarning: The frame.append method is deprecated and will be removed from pandas in a future version. Use pandas.concat instead.\n",
      "  item_combinations = item_combinations.append({\n"
     ]
    }
   ],
   "source": [
    "def cronbach_alpha(data):\n",
    "    items = data.shape[1]\n",
    "    variances = data.var()\n",
    "    total_var = variances.sum()\n",
    "    \n",
    "    item_combinations = pd.DataFrame(columns=['item1', 'item2', 'covariance'])\n",
    "    \n",
    "    # Calculate covariances between all pairs of items\n",
    "    for i in range(items):\n",
    "        for j in range(i+1, items):\n",
    "            item1 = data.iloc[:, i]\n",
    "            item2 = data.iloc[:, j]\n",
    "            \n",
    "            covariance_matrix = ((item1 - item1.mean()) * (item2 - item2.mean())).mean()\n",
    "            \n",
    "            item_combinations = item_combinations.append({\n",
    "                'item1': data.columns[i],\n",
    "                'item2': data.columns[j],\n",
    "                'covariance': covariance_matrix\n",
    "            }, ignore_index=True)\n",
    "    \n",
    "    # Sum the covariances\n",
    "    sum_of_covariances = item_combinations['covariance'].sum()\n",
    "    \n",
    "    cronbach_alpha_value = (items / (items - 1)) * (1 - (sum_of_covariances / total_var))\n",
    "    \n",
    "    return cronbach_alpha_value\n",
    "alpha_value = cronbach_alpha(questionnaire)\n",
    "\n",
    "print(f\"Cronbach's Alpha: {alpha_value}\")"
   ]
  },
  {
   "cell_type": "markdown",
   "id": "69cb9d0a",
   "metadata": {},
   "source": [
    "2. Explain the differences between in-house data labeling, crowdsourcing and outsourcing. "
   ]
  },
  {
   "cell_type": "code",
   "execution_count": 8,
   "metadata": {},
   "outputs": [],
   "source": [
    " \n",
    "#In-house data labeling is data labeling approach that where data is usually denoted by scientists or people within the organization. This method guarantees\n",
    "#control and specialized domain knowledge and usually it brings the highest quality.It often requires consultation with experts in the field for proper\n",
    "#data labeling. the disadvantage is that the whole process is very slow.\n",
    "\n",
    "#Crowdsourcing relies on external contributors from diverse backgrounds (freelancers registered to crowdsourcing platform) to label data through online \n",
    "#platforms,providing scalability and speed, but may pose challenges in quality control and data confidentiality.\n",
    "  \n",
    "#Outsourcing is a middle ground between crowdsourcing and in-house tagging. The task of labelling data is left to an individual or an organization which has\n",
    "#trained annotators. they are used for projects that do not have a lot of funding, but require significant funding data marking quality.\n",
    "\n"
   ]
  },
  {
   "cell_type": "markdown",
   "id": "ce3d3e91",
   "metadata": {},
   "source": [
    "3. Explain the main differences between annotation for image classification, object detection and image segmentation."
   ]
  },
  {
   "cell_type": "code",
   "execution_count": 9,
   "metadata": {},
   "outputs": [],
   "source": [
    "#Annotation for image classification involves assigning a single label to an entire image, representing its primary category. \n",
    "#In object detection, the focus is on identifying and locating multiple objects within an image, requiring the annotation of bounding boxes around each \n",
    "#object along with assigned labels. \n",
    "#On the other hand, image segmentation involves separating objects from the background and other elements in the image,\n",
    "#resulting in a binary mask where pixels corresponding to the object are marked as 1 and others as 0.\n",
    "\n",
    "#n summary, image classification assigns labels to entire images, object detection annotates bounding boxes around objects, and image segmentation\n",
    "#delineates object boundaries pixel-wise."
   ]
  }
 ],
 "metadata": {
  "kernelspec": {
   "display_name": "Python 3 (ipykernel)",
   "language": "python",
   "name": "python3"
  },
  "language_info": {
   "codemirror_mode": {
    "name": "ipython",
    "version": 3
   },
   "file_extension": ".py",
   "mimetype": "text/x-python",
   "name": "python",
   "nbconvert_exporter": "python",
   "pygments_lexer": "ipython3",
   "version": "3.9.2"
  }
 },
 "nbformat": 4,
 "nbformat_minor": 5
}
