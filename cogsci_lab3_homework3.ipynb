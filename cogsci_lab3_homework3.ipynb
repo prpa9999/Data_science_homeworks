{
 "cells": [
  {
   "cell_type": "code",
   "execution_count": 58,
   "id": "f7ff933a",
   "metadata": {},
   "outputs": [],
   "source": [
    "import numpy as np\n",
    "import pandas as pd\n",
    "import matplotlib.pyplot as plt\n",
    "import seaborn as sns\n",
    "from scipy import stats"
   ]
  },
  {
   "cell_type": "markdown",
   "id": "565d8231",
   "metadata": {},
   "source": [
    "1. Load the cleaned dataset from the last exercise. If you haven't saved the dataset, rerun the exercise and save the final dataset."
   ]
  },
  {
   "cell_type": "code",
   "execution_count": 59,
   "id": "ed36fe06",
   "metadata": {},
   "outputs": [],
   "source": [
    "X = pd.read_csv('students_cleaned.csv')"
   ]
  },
  {
   "cell_type": "markdown",
   "id": "5bd8059f",
   "metadata": {},
   "source": [
    "2. a) Find the mean, median and average scores in mathematics, reading and writing. <br>\n",
    "   b) Find the mean, median and average scores for males and females.<br>\n",
    "   c) What is the coefficient of variation of the scores? <br>"
   ]
  },
  {
   "cell_type": "code",
   "execution_count": 60,
   "id": "50b4b85d",
   "metadata": {},
   "outputs": [
    {
     "data": {
      "text/plain": [
       "Gender\n",
       "female    21.369056\n",
       "male      21.820297\n",
       "Name: WritingScore, dtype: float64"
      ]
     },
     "execution_count": 60,
     "metadata": {},
     "output_type": "execute_result"
    }
   ],
   "source": [
    "X['MathScore'].mean()\n",
    "X['MathScore'].median()\n",
    "X['MathScore'].std()\n",
    "X['ReadingScore'].mean()\n",
    "X['ReadingScore'].median()\n",
    "X['ReadingScore'].std()\n",
    "X['WritingScore'].mean()\n",
    "X['WritingScore'].median()\n",
    "X['WritingScore'].std()\n",
    "X.groupby('Gender')['MathScore'].mean()\n",
    "X.groupby('Gender')['MathScore'].median()\n",
    "X.groupby('Gender')['MathScore'].std()\n",
    "X.groupby('Gender')['ReadingScore'].mean()\n",
    "X.groupby('Gender')['ReadingScore'].median()\n",
    "X.groupby('Gender')['ReadingScore'].std()\n",
    "X.groupby('Gender')['WritingScore'].mean()\n",
    "X.groupby('Gender')['WritingScore'].median()\n",
    "X.groupby('Gender')['WritingScore'].std()\n",
    "\n",
    "X['MathScore'].std() / X['MathScore'].mean() * 100\n",
    "X['ReadingScore'].std() / X['ReadingScore'].mean() * 100\n",
    "X['WritingScore'].std() / X['WritingScore'].mean() * 100\n",
    "X.groupby('Gender')['MathScore'].std() / X['MathScore'].mean() * 100\n",
    "X.groupby('Gender')['ReadingScore'].std() / X['ReadingScore'].mean() * 100\n",
    "X.groupby('Gender')['WritingScore'].std() / X['WritingScore'].mean() * 100\n",
    "\n"
   ]
  },
  {
   "cell_type": "markdown",
   "id": "70855546",
   "metadata": {},
   "source": [
    "3. a) Use a statistical test to test the hypothesis:<br>\n",
    "H0: the mean mathematical scores of females and males are equal.\n",
    "H1: the mean ... is not equal\n"
   ]
  },
  {
   "cell_type": "code",
   "execution_count": 89,
   "id": "ef56f09c",
   "metadata": {},
   "outputs": [
    {
     "name": "stdout",
     "output_type": "stream",
     "text": [
      "stat=767.757, p=0.000\n",
      "Probably different distributions\n"
     ]
    }
   ],
   "source": [
    "X.groupby('Gender')['MathScore'].mean()\n",
    "#64.119419/    69.038488\n",
    "from scipy.stats import f_oneway\n",
    "from sklearn.preprocessing import LabelEncoder #koristimo labelencoder za 0 i jedinice\n",
    "\n",
    "\t\t\t\t   \n",
    "#FirstClass = X.query('Gender == 0')\n",
    "#SecondClass= X.query('Gender == 1')\n",
    "le = LabelEncoder()\n",
    "X['Gender'] = le.fit_transform(X['Gender'])\n",
    "\n",
    "\n",
    "# Assuming 0 represents Females and 1 represents Males after encoding\n",
    "FirstClass = X[X['Gender'] == 0]['MathScore'].dropna()\n",
    "SecondClass = X[X['Gender'] == 1]['MathScore'].dropna()\n",
    "\n",
    "stat, p = f_oneway(FirstClass,SecondClass)\n",
    "print('stat=%.3f, p=%.3f' % (stat, p))\n",
    "if p > 0.05:\n",
    "\tprint('Cannot reject H0 hypotesis')\n",
    "else:\n",
    "\tprint('Probably different distributions')\n",
    "\n",
    "column_values = X['Gender'].unique()\n",
    "\n",
    "\n"
   ]
  },
  {
   "cell_type": "markdown",
   "id": "06ebfd52",
   "metadata": {},
   "source": [
    "4. a) Use a statistical test to test the hypothesis:<br>\n",
    "   H0 Gender did not affect the writing scores.<br>\n",
    "   H1 Gender affected the writing score.<br>"
   ]
  },
  {
   "cell_type": "code",
   "execution_count": 87,
   "id": "e48b849b",
   "metadata": {},
   "outputs": [
    {
     "data": {
      "text/plain": [
       "(-52.01694529394566, 0.0)"
      ]
     },
     "execution_count": 87,
     "metadata": {},
     "output_type": "execute_result"
    }
   ],
   "source": [
    "#testing hypotesis z-test\n",
    "from statsmodels.stats.weightstats import ztest as ztest\n",
    "#male_writing_scores = X[X['Gender'] == 'Male']['WritingScore']\n",
    "#female_writing_scores = X[X['Gender'] == 'Female']['WritingScore']\n",
    "\n",
    "# Perform the z-test\n",
    "#z_stat, p_value = ztest(male_writing_scores, female_writing_scores)\n",
    "\n",
    "\n",
    "\n",
    "\n",
    "FirstClass = X.query('Gender == 1')\n",
    "ThirdClass = X.query('Gender == 0')\n",
    "FirstClass_sample = FirstClass.sample(n=100, random_state=1) #random_state pamti koji sample je izabrani\n",
    "ThirdClass_sample = ThirdClass.sample(n=100, random_state=1)\n",
    "\n",
    "#FirstClass_sample = FirstClass.sample(n=100, random_state=1) #random_state pamti koji sample je izabrani\n",
    "#ThirdClass_sample = ThirdClass.sample(n=100, random_state=1)\n",
    "ztest(FirstClass['WritingScore'], ThirdClass['WritingScore'], value=0) \n",
    "\n",
    "#Define the significance level (e.g., 0.05)\n",
    "#alpha = 0.05\n",
    "\n",
    "# Compare the p-value with the significance level\n",
    "#if p_value < alpha:\n",
    "#    print(\"Reject the null hypothesis. Gender affects the writing scores.\")\n",
    "#else:\n",
    "#    print(\"Fail to reject the null hypothesis. Gender does not affect the writing scores.\")\n",
    "\n",
    "# H1 is correct\n",
    "\n",
    "\n",
    "\n"
   ]
  },
  {
   "cell_type": "markdown",
   "id": "c46fde23",
   "metadata": {},
   "source": [
    "5. a) Statisticaly test the distribuitions of female and male scores across the three scores columns.<br>\n",
    "b) Plot the distributions for each of the separate scores in both genders. <br>"
   ]
  },
  {
   "cell_type": "code",
   "execution_count": 84,
   "id": "7a30aad6",
   "metadata": {},
   "outputs": [
    {
     "name": "stdout",
     "output_type": "stream",
     "text": [
      "stat=13.210, p=0.000\n",
      "Probably different distributions\n",
      "stat=7.093, p=0.008\n",
      "Probably different distributions\n",
      "stat=12.832, p=0.000\n",
      "Probably different distributions\n"
     ]
    }
   ],
   "source": [
    "from scipy.stats import kruskal\n",
    "\n",
    "FirstClass = X.query('Gender == 1')\n",
    "ThirdClass = X.query('Gender == 0')\n",
    "\n",
    "FirstClass_sample = FirstClass.sample(n=100, random_state=1) #random_state pamti koji sample je izabrani\n",
    "ThirdClass_sample = ThirdClass.sample(n=100, random_state=1)\n",
    "stat, p = kruskal(FirstClass_sample['MathScore'],ThirdClass_sample['MathScore'])\n",
    "print('stat=%.3f, p=%.3f' % (stat, p))\n",
    "if p > 0.05:\n",
    "\tprint('Cannot reject H0 hypotesis')#H0 gender does not affect MathScore\n",
    "else:\n",
    "\tprint('Probably different distributions')\n",
    "\n",
    "stat, p = kruskal(FirstClass_sample['ReadingScore'],ThirdClass_sample['ReadingScore'])\n",
    "print('stat=%.3f, p=%.3f' % (stat, p))\n",
    "if p > 0.05:\n",
    "\tprint('Cannot reject H0 hypotesis')#H0 gender does not affect ReadingScore\n",
    "else:\n",
    "\tprint('Probably different distributions')\n",
    "\n",
    "stat, p = kruskal(FirstClass_sample['WritingScore'],ThirdClass_sample['WritingScore'])\n",
    "print('stat=%.3f, p=%.3f' % (stat, p))\n",
    "if p > 0.05:\n",
    "\tprint('Cannot reject H0 hypotesis')#H0 gender does not affect WritingScore\n",
    "else:\n",
    "\tprint('Probably different distributions')"
   ]
  }
 ],
 "metadata": {
  "kernelspec": {
   "display_name": "Python 3 (ipykernel)",
   "language": "python",
   "name": "python3"
  },
  "language_info": {
   "codemirror_mode": {
    "name": "ipython",
    "version": 3
   },
   "file_extension": ".py",
   "mimetype": "text/x-python",
   "name": "python",
   "nbconvert_exporter": "python",
   "pygments_lexer": "ipython3",
   "version": "3.9.2"
  }
 },
 "nbformat": 4,
 "nbformat_minor": 5
}
